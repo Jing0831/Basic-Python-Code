{
 "cells": [
  {
   "cell_type": "markdown",
   "metadata": {},
   "source": [
    "# Python Control Structures\n",
    "\n",
    "A control structure (or flow of control) is a <font color=red> block of programming that analyses variables and chooses a direction in which to go based on given parameters</font>. \n",
    "\n",
    "In other words, a control structure is the basic decision-making process in programming. The flow of control determines how a computer program will respond given conditions and parameters.\n",
    "\n",
    "Below is an example of a Selection control flow (just for demo, we will re-visit this example later in thsi lecture): "
   ]
  },
  {
   "cell_type": "code",
   "execution_count": null,
   "metadata": {},
   "outputs": [],
   "source": [
    "number = 23\n",
    "guess = int(input('Enter an integer : '))\n",
    "\n",
    "if guess == number:\n",
    "    # New block starts here\n",
    "    print('Congratulations, you guessed it.')\n",
    "    print('(but you do not win any prizes!)')\n",
    "    # New block ends here\n",
    "elif guess < number:\n",
    "    # Another block\n",
    "    print('No, it is a little higher than that')\n",
    "    # You can do whatever you want in a block ...\n",
    "else:\n",
    "    print('No, it is a little lower than that')\n",
    "    # you must have guessed > number to reach here\n",
    "\n",
    "print('Done')\n",
    "# This last statement is always executed,\n",
    "# after the if statement is executed."
   ]
  },
  {
   "attachments": {
    "control%20%281%29.png": {
     "image/png": "[encoded data removed]"
    }
   },
   "cell_type": "markdown",
   "metadata": {},
   "source": [
    " ___\n",
    " \n",
    "There are three basic types of control structures:\n",
    "\n",
    "* **Sequence**\n",
    "> Sequential execution is when statements are executed one line after another in order. This is the default mode. You don't need to do anything more for this to happen.\n",
    "\n",
    "* **Selection**\n",
    ">  Use selection for decisions and branching (i.e., choosing between 2 or more alternative paths).\n",
    ">  The commonly-used selection construct in Python is the variations of **`if`** statement. \n",
    "\n",
    "\n",
    "* **Iteration:**\n",
    ">  Use iteration for looping, i.e. repeating a piece of code multiple times in a row.\n",
    "> Commonly-used selection constructs in Python are **`for`** and **`while`**.\n",
    "\n",
    "\n",
    "![control%20%281%29.png](attachment:control%20%281%29.png)"
   ]
  },
  {
   "cell_type": "markdown",
   "metadata": {},
   "source": [
    "Before we begin the discussion on selection and iteration structures, we review two related concepts: Comparison operators and Python Basic Syntax. \n",
    "\n",
    "\n",
    "## Comparison Operators \n",
    "\n",
    "Comparison operators allow us to compare variables and generate a Boolean value (True or False) as output. \n",
    "\n",
    "The table below provides a list of Python comparison operators. \n",
    "\n",
    "<h4 align=\"center\"> Table of Comparison Operators (in this table, `a=3` and `b=4`)</h3> \n",
    "<table>\n",
    "<tr >\n",
    "<th style=\"text-align:center; width:7%\">Operator</th><th style=\"text-align:center; width:65%\" > Description</th><th style=\"text-align:center\" >Example </th>\n",
    "</tr>\n",
    "<tr>\n",
    "<td style=\"text-align:center\">==</td>\n",
    "<td style=\"text-align:left\">If the values of two operands are equal, then the condition becomes true.</td>\n",
    "<td style=\"text-align:left\"> (a == b) is not true.</td>\n",
    "</tr>\n",
    "<tr>\n",
    "<td style=\"text-align:center\">!=</td>\n",
    "<td style=\"text-align:left\">If values of two operands are not equal, then condition becomes true.</td>\n",
    "<td style=\"text-align:left\">(a != b) is true</td>\n",
    "</tr>\n",
    "<tr>\n",
    "<td style=\"text-align:center\">&gt;</td>\n",
    "<td style=\"text-align:left\">If the value of left operand is greater than the value of right operand, then condition becomes true.</td>\n",
    "<td style=\"text-align:left\"> (a &gt; b) is not true.</td>\n",
    "</tr>\n",
    "<tr>\n",
    "<td style=\"text-align:center\">&lt;</td>\n",
    "<td style=\"text-align:left\">If the value of left operand is less than the value of right operand, then condition becomes true.</td>\n",
    "<td style=\"text-align:left\"> (a &lt; b) is true.</td>\n",
    "</tr>\n",
    "<tr>\n",
    "<td style=\"text-align:center\">&gt;=</td>\n",
    "<td style=\"text-align:left\">If the value of left operand is greater than or equal to the value of right operand, then condition becomes true.</td>\n",
    "<td style=\"text-align:left\"> (a &gt;= b) is not true. </td>\n",
    "</tr>\n",
    "<tr>\n",
    "<td style=\"text-align:center\">&lt;=</td>\n",
    "<td style=\"text-align:left\">If the value of left operand is less than or equal to the value of right operand, then condition becomes true.</td>\n",
    "<td style=\"text-align:left\"> (a &lt;= b) is true. </td>\n",
    "</tr>\n",
    "</table>"
   ]
  },
  {
   "cell_type": "markdown",
   "metadata": {},
   "source": [
    "Let's now work through quick examples of each of these.\n",
    "\n",
    "#### Equal"
   ]
  },
  {
   "cell_type": "code",
   "execution_count": 2,
   "metadata": {},
   "outputs": [
    {
     "data": {
      "text/plain": [
       "True"
      ]
     },
     "execution_count": 2,
     "metadata": {},
     "output_type": "execute_result"
    }
   ],
   "source": [
    "2 == 2"
   ]
  },
  {
   "cell_type": "code",
   "execution_count": 3,
   "metadata": {},
   "outputs": [
    {
     "data": {
      "text/plain": [
       "False"
      ]
     },
     "execution_count": 3,
     "metadata": {},
     "output_type": "execute_result"
    }
   ],
   "source": [
    "1 == 0"
   ]
  },
  {
   "cell_type": "markdown",
   "metadata": {},
   "source": [
    "Note that <code>==</code> is a <font color=blue>*comparison operator* </font>, while <code>=</code> is an <font color=blue>*assignment operator* </font>."
   ]
  },
  {
   "cell_type": "markdown",
   "metadata": {},
   "source": [
    "#### Not Equal"
   ]
  },
  {
   "cell_type": "code",
   "execution_count": 4,
   "metadata": {},
   "outputs": [
    {
     "data": {
      "text/plain": [
       "True"
      ]
     },
     "execution_count": 4,
     "metadata": {},
     "output_type": "execute_result"
    }
   ],
   "source": [
    "2 != 1"
   ]
  },
  {
   "cell_type": "code",
   "execution_count": 5,
   "metadata": {},
   "outputs": [
    {
     "data": {
      "text/plain": [
       "False"
      ]
     },
     "execution_count": 5,
     "metadata": {},
     "output_type": "execute_result"
    }
   ],
   "source": [
    "2 != 2"
   ]
  },
  {
   "cell_type": "markdown",
   "metadata": {},
   "source": [
    "#### Greater Than"
   ]
  },
  {
   "cell_type": "code",
   "execution_count": 6,
   "metadata": {},
   "outputs": [
    {
     "data": {
      "text/plain": [
       "True"
      ]
     },
     "execution_count": 6,
     "metadata": {},
     "output_type": "execute_result"
    }
   ],
   "source": [
    "2 > 1"
   ]
  },
  {
   "cell_type": "code",
   "execution_count": 7,
   "metadata": {},
   "outputs": [
    {
     "data": {
      "text/plain": [
       "False"
      ]
     },
     "execution_count": 7,
     "metadata": {},
     "output_type": "execute_result"
    }
   ],
   "source": [
    "2 > 4"
   ]
  },
  {
   "cell_type": "markdown",
   "metadata": {},
   "source": [
    "#### Less Than"
   ]
  },
  {
   "cell_type": "code",
   "execution_count": 8,
   "metadata": {},
   "outputs": [
    {
     "data": {
      "text/plain": [
       "True"
      ]
     },
     "execution_count": 8,
     "metadata": {},
     "output_type": "execute_result"
    }
   ],
   "source": [
    "2 < 4"
   ]
  },
  {
   "cell_type": "code",
   "execution_count": 9,
   "metadata": {},
   "outputs": [
    {
     "data": {
      "text/plain": [
       "False"
      ]
     },
     "execution_count": 9,
     "metadata": {},
     "output_type": "execute_result"
    }
   ],
   "source": [
    "2 < 1"
   ]
  },
  {
   "cell_type": "markdown",
   "metadata": {},
   "source": [
    "#### Greater Than or Equal to"
   ]
  },
  {
   "cell_type": "code",
   "execution_count": 10,
   "metadata": {},
   "outputs": [
    {
     "data": {
      "text/plain": [
       "True"
      ]
     },
     "execution_count": 10,
     "metadata": {},
     "output_type": "execute_result"
    }
   ],
   "source": [
    "2 >= 2"
   ]
  },
  {
   "cell_type": "code",
   "execution_count": 11,
   "metadata": {},
   "outputs": [
    {
     "data": {
      "text/plain": [
       "True"
      ]
     },
     "execution_count": 11,
     "metadata": {},
     "output_type": "execute_result"
    }
   ],
   "source": [
    "2 >= 1"
   ]
  },
  {
   "cell_type": "markdown",
   "metadata": {},
   "source": [
    "#### Less than or Equal to"
   ]
  },
  {
   "cell_type": "code",
   "execution_count": 12,
   "metadata": {},
   "outputs": [
    {
     "data": {
      "text/plain": [
       "True"
      ]
     },
     "execution_count": 12,
     "metadata": {},
     "output_type": "execute_result"
    }
   ],
   "source": [
    "2 <= 2"
   ]
  },
  {
   "cell_type": "code",
   "execution_count": 13,
   "metadata": {},
   "outputs": [
    {
     "data": {
      "text/plain": [
       "True"
      ]
     },
     "execution_count": 13,
     "metadata": {},
     "output_type": "execute_result"
    }
   ],
   "source": [
    "2 <= 4"
   ]
  },
  {
   "cell_type": "markdown",
   "metadata": {},
   "source": [
    "Next, we learn how to **chain** comparison operators and use **`and`** and **`or`** statements. Let's look at a few examples of using chains:"
   ]
  },
  {
   "cell_type": "code",
   "execution_count": 14,
   "metadata": {},
   "outputs": [
    {
     "data": {
      "text/plain": [
       "True"
      ]
     },
     "execution_count": 14,
     "metadata": {},
     "output_type": "execute_result"
    }
   ],
   "source": [
    "1 < 2 < 3"
   ]
  },
  {
   "cell_type": "markdown",
   "metadata": {},
   "source": [
    "The above statement checks if 1 was less than 2 **and** if 2 was less than 3. We could have written this using an **`and`** statement in Python:"
   ]
  },
  {
   "cell_type": "code",
   "execution_count": 15,
   "metadata": {},
   "outputs": [
    {
     "data": {
      "text/plain": [
       "True"
      ]
     },
     "execution_count": 15,
     "metadata": {},
     "output_type": "execute_result"
    }
   ],
   "source": [
    "1<2 and 2<3"
   ]
  },
  {
   "cell_type": "markdown",
   "metadata": {},
   "source": [
    "The **and** is used to make sure two checks have to be true in order for the total check to be true. Let's see another example:"
   ]
  },
  {
   "cell_type": "code",
   "execution_count": 16,
   "metadata": {},
   "outputs": [
    {
     "data": {
      "text/plain": [
       "True"
      ]
     },
     "execution_count": 16,
     "metadata": {},
     "output_type": "execute_result"
    }
   ],
   "source": [
    "1 < 3 > 2"
   ]
  },
  {
   "cell_type": "markdown",
   "metadata": {},
   "source": [
    "Use **`and`** to rewrite the above condition:"
   ]
  },
  {
   "cell_type": "code",
   "execution_count": 17,
   "metadata": {},
   "outputs": [
    {
     "data": {
      "text/plain": [
       "True"
      ]
     },
     "execution_count": 17,
     "metadata": {},
     "output_type": "execute_result"
    }
   ],
   "source": [
    "1 < 3 and 3 > 2"
   ]
  },
  {
   "cell_type": "markdown",
   "metadata": {},
   "source": [
    "We can also use **or** to chain comparisons in Python. For example:"
   ]
  },
  {
   "cell_type": "code",
   "execution_count": 18,
   "metadata": {},
   "outputs": [
    {
     "data": {
      "text/plain": [
       "True"
      ]
     },
     "execution_count": 18,
     "metadata": {},
     "output_type": "execute_result"
    }
   ],
   "source": [
    "1==2 or 2<3"
   ]
  },
  {
   "cell_type": "markdown",
   "metadata": {},
   "source": [
    "Note how it was true; this is because with the **`or`** operator, we only need one *or* the other to be true. "
   ]
  },
  {
   "cell_type": "markdown",
   "metadata": {},
   "source": [
    "___\n",
    "\n",
    "## Python basic syntax\n",
    "\n",
    "Let's create a simple statement that says: \"If a is greater than b, assign 2 to a and 4 to b\"\n",
    "\n",
    "Take a look at these two `if` statements (we will learn about building out if statements soon).\n",
    "\n",
    "**Version 1 (Other Languages)**\n",
    "\n",
    "    if (a>b){\n",
    "        a = 2;\n",
    "        b = 4;\n",
    "    }\n",
    "                        \n",
    "**Version 2 (Python)**   \n",
    "\n",
    "    if a>b:\n",
    "        a = 2\n",
    "        b = 4"
   ]
  },
  {
   "cell_type": "markdown",
   "metadata": {},
   "source": [
    "You'll notice that Python is less cluttered and much more readable than the first version. How does Python manage this? \n",
    "\n",
    "Let's walk through the main differences:\n",
    "\n",
    "Python gets rid of () and {} by incorporating two main factors: a <font color=green> **colon** </font> and <font color=green>  **whitespace**</font>. The statement is ended with a colon, and whitespace is used (indentation) to describe what takes place in case of the statement.\n",
    "\n",
    "Another major difference is the lack of semicolons in Python. Semicolons are used to denote statement endings in many other languages, but in Python, the end of a line is the same as the end of a statement."
   ]
  },
  {
   "cell_type": "code",
   "execution_count": null,
   "metadata": {},
   "outputs": [],
   "source": []
  }
 ],
 "metadata": {
  "kernelspec": {
   "display_name": "Python 3",
   "language": "python",
   "name": "python3"
  },
  "language_info": {
   "codemirror_mode": {
    "name": "ipython",
    "version": 3
   },
   "file_extension": ".py",
   "mimetype": "text/x-python",
   "name": "python",
   "nbconvert_exporter": "python",
   "pygments_lexer": "ipython3",
   "version": "3.8.8"
  }
 },
 "nbformat": 4,
 "nbformat_minor": 4
}
