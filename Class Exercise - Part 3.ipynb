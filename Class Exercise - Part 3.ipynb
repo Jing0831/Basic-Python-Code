{
 "cells": [
  {
   "cell_type": "markdown",
   "metadata": {},
   "source": [
    "**<font color=blue> Exercise 1: Use the first import syntax discussed in \"11 Modules and Packages\" notebook with a function of your choice from the `math` library (Google it!).</font>**"
   ]
  },
  {
   "cell_type": "code",
   "execution_count": 1,
   "metadata": {},
   "outputs": [
    {
     "data": {
      "text/plain": [
       "7"
      ]
     },
     "execution_count": 1,
     "metadata": {},
     "output_type": "execute_result"
    }
   ],
   "source": [
    "import math\n",
    "math.floor(7.8897)"
   ]
  },
  {
   "cell_type": "markdown",
   "metadata": {},
   "source": [
    "**<font color=blue>Exercise 2: Practice the second import syntax with the `math` function you explored previously. </font>**"
   ]
  },
  {
   "cell_type": "code",
   "execution_count": 2,
   "metadata": {},
   "outputs": [
    {
     "data": {
      "text/plain": [
       "7"
      ]
     },
     "execution_count": 2,
     "metadata": {},
     "output_type": "execute_result"
    }
   ],
   "source": [
    "from math import floor\n",
    "floor(7.8898)"
   ]
  },
  {
   "cell_type": "markdown",
   "metadata": {},
   "source": [
    "**<font color=blue>Exercise 3: Write a function that returns the lesser of two given numbers *if* both numbers are even, but returns the greater if one or both numbers are odd.**</font>\n",
    "\n",
    "*Hint: you can use `min()` and `max()` functions*.\n",
    "\n",
    "    lesser_of_two_evens(2,4) --> 2\n",
    "    lesser_of_two_evens(2,5) --> 5"
   ]
  },
  {
   "cell_type": "code",
   "execution_count": 10,
   "metadata": {},
   "outputs": [],
   "source": [
    "def pick_a_num(num1, num2):\n",
    "    \"\"\"\n",
    "    This function returns the lesser of two given numbers if both numbers are even, \n",
    "    but returns the greater if one or both numbers are odd.\n",
    "    \"\"\"\n",
    "    if num1%2 == 0 and num2%2 == 0:\n",
    "       return min(num1, num2)\n",
    "    else:\n",
    "       return max(num1, num2)"
   ]
  },
  {
   "cell_type": "code",
   "execution_count": 11,
   "metadata": {},
   "outputs": [
    {
     "name": "stdout",
     "output_type": "stream",
     "text": [
      "Help on function pick_a_num in module __main__:\n",
      "\n",
      "pick_a_num(num1, num2)\n",
      "    This function returns the lesser of two given numbers if both numbers are even, \n",
      "    but returns the greater if one or both numbers are odd.\n",
      "\n"
     ]
    }
   ],
   "source": [
    "help(pick_a_num)"
   ]
  },
  {
   "cell_type": "code",
   "execution_count": 7,
   "metadata": {},
   "outputs": [
    {
     "data": {
      "text/plain": [
       "9"
      ]
     },
     "execution_count": 7,
     "metadata": {},
     "output_type": "execute_result"
    }
   ],
   "source": [
    "pick_a_num(3,9)"
   ]
  },
  {
   "cell_type": "markdown",
   "metadata": {},
   "source": [
    "**<font color=blue> Exercise 4: Write a function that takes a two-word string and returns `True` if both words begin with the same letter.**</font> \n",
    "\n",
    "*Hint: You can use `split()` method and string indexing.*\n",
    "\n",
    "    string_crackers('Breaking Bad') --> True\n",
    "    string_crackers('Crazy Kangaroo') --> False"
   ]
  },
  {
   "cell_type": "code",
   "execution_count": 25,
   "metadata": {},
   "outputs": [],
   "source": [
    "def word_match(str):\n",
    "    if str.split(\" \")[0][0] == str.split(' ')[1][0]:\n",
    "        return 'True'\n",
    "    else:\n",
    "        return 'Nice Try!'"
   ]
  },
  {
   "cell_type": "code",
   "execution_count": 27,
   "metadata": {},
   "outputs": [
    {
     "data": {
      "text/plain": [
       "'True'"
      ]
     },
     "execution_count": 27,
     "metadata": {},
     "output_type": "execute_result"
    }
   ],
   "source": [
    "word_match('Jingyi JANG')"
   ]
  },
  {
   "cell_type": "markdown",
   "metadata": {},
   "source": [
    "**<font color=blue> Exercise 5: Write a function that takes two inputs, a string and a letter, and returns the the number of times the letter appears in the string:**</font>\n",
    "\n",
    "letter_counter('banana','a') --> 3"
   ]
  },
  {
   "cell_type": "code",
   "execution_count": 12,
   "metadata": {},
   "outputs": [],
   "source": [
    "# Method 1: for-loop and adding list\n",
    "def counter1(str, letter):\n",
    "    num = 0\n",
    "    for x in range(len(str)):\n",
    "        if str[x] == letter:\n",
    "            num += 1\n",
    "    return num"
   ]
  },
  {
   "cell_type": "code",
   "execution_count": 13,
   "metadata": {},
   "outputs": [
    {
     "data": {
      "text/plain": [
       "2"
      ]
     },
     "execution_count": 13,
     "metadata": {},
     "output_type": "execute_result"
    }
   ],
   "source": [
    "counter1('jingyi','i')"
   ]
  },
  {
   "cell_type": "code",
   "execution_count": 27,
   "metadata": {},
   "outputs": [],
   "source": [
    "# Method 2: turn the string into a list by using [], then .count()\n",
    "def counter2(word,letter):\n",
    "    return [x for x in word].count(letter)"
   ]
  },
  {
   "cell_type": "code",
   "execution_count": 28,
   "metadata": {},
   "outputs": [
    {
     "data": {
      "text/plain": [
       "2"
      ]
     },
     "execution_count": 28,
     "metadata": {},
     "output_type": "execute_result"
    }
   ],
   "source": [
    "counter2('jingyi','i')"
   ]
  },
  {
   "cell_type": "code",
   "execution_count": 17,
   "metadata": {},
   "outputs": [],
   "source": [
    "# Method 3: Using list() and count() functions\n",
    "def counter3(word, letter):\n",
    "    return list(word).count(letter)"
   ]
  },
  {
   "cell_type": "code",
   "execution_count": 18,
   "metadata": {},
   "outputs": [
    {
     "data": {
      "text/plain": [
       "2"
      ]
     },
     "execution_count": 18,
     "metadata": {},
     "output_type": "execute_result"
    }
   ],
   "source": [
    "counter3('jingyi','i')"
   ]
  },
  {
   "cell_type": "code",
   "execution_count": 22,
   "metadata": {},
   "outputs": [],
   "source": []
  }
 ],
 "metadata": {
  "kernelspec": {
   "display_name": "Python 3",
   "language": "python",
   "name": "python3"
  },
  "language_info": {
   "codemirror_mode": {
    "name": "ipython",
    "version": 3
   },
   "file_extension": ".py",
   "mimetype": "text/x-python",
   "name": "python",
   "nbconvert_exporter": "python",
   "pygments_lexer": "ipython3",
   "version": "3.8.8"
  }
 },
 "nbformat": 4,
 "nbformat_minor": 4
}
