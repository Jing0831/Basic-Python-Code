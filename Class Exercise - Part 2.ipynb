{
 "cells": [
  {
   "cell_type": "markdown",
   "metadata": {},
   "source": [
    "## Exercise 1:\n",
    "Write a Python program that asks the user to input an integer number and prompts the user when the number is both divisible by 7 and multiple of 5."
   ]
  },
  {
   "cell_type": "code",
   "execution_count": 3,
   "metadata": {},
   "outputs": [
    {
     "name": "stdin",
     "output_type": "stream",
     "text": [
      "Enter an integer :  44\n"
     ]
    },
    {
     "name": "stdout",
     "output_type": "stream",
     "text": [
      "Well, I guess my professor doesn't like your number.\n"
     ]
    }
   ],
   "source": [
    "num = int(input('Enter an integer : '))\n",
    "if num%7 == 0 and num%5 == 0:\n",
    "    print('WOW!!! Your number is both divisible by 7 and multiple of 5')\n",
    "else:\n",
    "    print(\"Well, I guess my professor doesn't like your number.\")"
   ]
  },
  {
   "cell_type": "markdown",
   "metadata": {},
   "source": [
    "## Exercise 2:\n",
    "Write a Python program that takes a student's ID and final grade as input and prints the ID and letter grade based on the following scheme:  \n",
    "<table border=\"1\" class=\"docutils\">\n",
    "<colgroup>\n",
    "<col width=\"65%\" />\n",
    "<col width=\"35%\" />\n",
    "</colgroup>\n",
    "<thead valign=\"bottom\">\n",
    "<tr class=\"row-odd\"><th class=\"head\">Weighted final score</th>\n",
    "<th class=\"head\">Final grade</th>\n",
    "</tr>\n",
    "</thead>\n",
    "<tbody valign=\"top\">\n",
    "<tr class=\"row-even\"><td>80 &lt;= mark &lt;= 100</td>\n",
    "<td>A</td>\n",
    "</tr>\n",
    "<tr class=\"row-odd\"><td>70 &lt;= mark &lt; 80</td>\n",
    "<td>B</td>\n",
    "</tr>\n",
    "<tr class=\"row-even\"><td>60 &lt;= mark &lt; 70</td>\n",
    "<td>C</td>\n",
    "</tr>\n",
    "<tr class=\"row-odd\"><td>50 &lt;= mark &lt; 60</td>\n",
    "<td>D</td>\n",
    "</tr>\n",
    "<tr class=\"row-even\"><td>mark &lt; 50</td>\n",
    "<td>F</td>\n",
    "</tr>\n",
    "</tbody>\n",
    "</table>"
   ]
  },
  {
   "cell_type": "code",
   "execution_count": 10,
   "metadata": {},
   "outputs": [
    {
     "name": "stdin",
     "output_type": "stream",
     "text": [
      "Please enter the student's ID: A\n",
      "Please enter the student's score: 80\n"
     ]
    },
    {
     "name": "stdout",
     "output_type": "stream",
     "text": [
      "The Final grade for student A is: A\n"
     ]
    }
   ],
   "source": [
    "student_id = input(\"Please enter the student's ID:\")\n",
    "student_score = float(input(\"Please enter the student's score:\"))\n",
    "if student_score > 100:\n",
    "    print('More than 100?! Are you sure? ')\n",
    "elif student_score >= 80 and student_score <= 100:\n",
    "    print('The Final grade for student ' + student_id + ' is: A')\n",
    "elif student_score >= 70 and student_score < 80:\n",
    "    print('The Final grade for student ' + student_id + ' is: B')\n",
    "elif student_score >= 60 and student_score < 70:\n",
    "    print('The Final grade for student ' + student_id + ' is: C')\n",
    "elif student_score >= 50 and student_score < 60:\n",
    "    print('The Final grade for student ' + student_id + ' is: D')\n",
    "else:\n",
    "    print('The Final grade for student ' + student_id + ' is: F')"
   ]
  },
  {
   "cell_type": "markdown",
   "metadata": {},
   "source": [
    "## Exercise 3: \n",
    "Write a Python program to find those numbers which are divisible by 7 and multiple of 5, between 1500 and 2700 (both included)."
   ]
  },
  {
   "cell_type": "code",
   "execution_count": 15,
   "metadata": {},
   "outputs": [
    {
     "name": "stdout",
     "output_type": "stream",
     "text": [
      "[1505, 1540, 1575, 1610, 1645, 1680, 1715, 1750, 1785, 1820, 1855, 1890, 1925, 1960, 1995, 2030, 2065, 2100, 2135, 2170, 2205, 2240, 2275, 2310, 2345, 2380, 2415, 2450, 2485, 2520, 2555, 2590, 2625, 2660, 2695]\n"
     ]
    }
   ],
   "source": [
    "num_list = []\n",
    "for x in range (1500,2701):\n",
    "    if x%7==0 and x%5==0:\n",
    "        num_list.append(x)\n",
    "print(num_list)"
   ]
  },
  {
   "cell_type": "markdown",
   "metadata": {},
   "source": [
    "## Exercise 4:\n",
    "\n",
    "Write a Python program that accepts a word from the user and reverses it. "
   ]
  },
  {
   "cell_type": "code",
   "execution_count": 31,
   "metadata": {
    "tags": []
   },
   "outputs": [
    {
     "name": "stdin",
     "output_type": "stream",
     "text": [
      "Please Enter Your Word: REVERSE\n"
     ]
    },
    {
     "name": "stdout",
     "output_type": "stream",
     "text": [
      "Let's reverse it! \n",
      " There You Go: ESREVER\n"
     ]
    }
   ],
   "source": [
    "word = str(input('Please Enter Your Word:'))\n",
    "word_rev = word[::-1]\n",
    "print(\"Let's reverse it! \\n There You Go: \" + word_rev)"
   ]
  },
  {
   "cell_type": "code",
   "execution_count": 25,
   "metadata": {},
   "outputs": [
    {
     "name": "stdout",
     "output_type": "stream",
     "text": [
      "109876543210"
     ]
    }
   ],
   "source": [
    "# Just testing...\n",
    "for test in range(10,-1,-1):\n",
    "    print(test, end='')"
   ]
  },
  {
   "cell_type": "code",
   "execution_count": 32,
   "metadata": {
    "tags": []
   },
   "outputs": [
    {
     "name": "stdin",
     "output_type": "stream",
     "text": [
      "Please Enter Your Word:  123456789\n"
     ]
    },
    {
     "name": "stdout",
     "output_type": "stream",
     "text": [
      "Let's reverse it! \n",
      " There You Go: 987654321\n"
     ]
    }
   ],
   "source": [
    "# Another way by using for loop\n",
    "myrev_word = ''\n",
    "my_word = str(input('Please Enter Your Word: '))\n",
    "for x in range(len(my_word)-1, -1, -1):\n",
    "    myrev_word += str(my_word[x])\n",
    "print(\"Let's reverse it! \\n There You Go: \" + myrev_word)    "
   ]
  }
 ],
 "metadata": {
  "kernelspec": {
   "display_name": "Python 3",
   "language": "python",
   "name": "python3"
  },
  "language_info": {
   "codemirror_mode": {
    "name": "ipython",
    "version": 3
   },
   "file_extension": ".py",
   "mimetype": "text/x-python",
   "name": "python",
   "nbconvert_exporter": "python",
   "pygments_lexer": "ipython3",
   "version": "3.8.8"
  }
 },
 "nbformat": 4,
 "nbformat_minor": 4
}
